{
 "cells": [
  {
   "cell_type": "code",
   "execution_count": 1,
   "id": "32bd0c33",
   "metadata": {},
   "outputs": [],
   "source": [
    "import pandas as pd\n",
    "import numpy as np\n",
    "import matplotlib.pyplot as plt\n",
    "import seaborn as sns\n",
    "from warnings import filterwarnings\n",
    "filterwarnings('ignore')"
   ]
  },
  {
   "cell_type": "code",
   "execution_count": 3,
   "id": "299ede1b",
   "metadata": {},
   "outputs": [
    {
     "data": {
      "text/html": [
       "<div>\n",
       "<style scoped>\n",
       "    .dataframe tbody tr th:only-of-type {\n",
       "        vertical-align: middle;\n",
       "    }\n",
       "\n",
       "    .dataframe tbody tr th {\n",
       "        vertical-align: top;\n",
       "    }\n",
       "\n",
       "    .dataframe thead th {\n",
       "        text-align: right;\n",
       "    }\n",
       "</style>\n",
       "<table border=\"1\" class=\"dataframe\">\n",
       "  <thead>\n",
       "    <tr style=\"text-align: right;\">\n",
       "      <th></th>\n",
       "      <th>Pregnancies</th>\n",
       "      <th>Glucose</th>\n",
       "      <th>BloodPressure</th>\n",
       "      <th>SkinThickness</th>\n",
       "      <th>Insulin</th>\n",
       "      <th>BMI</th>\n",
       "      <th>DiabetesPedigreeFunction</th>\n",
       "      <th>Age</th>\n",
       "      <th>Outcome</th>\n",
       "    </tr>\n",
       "  </thead>\n",
       "  <tbody>\n",
       "    <tr>\n",
       "      <th>0</th>\n",
       "      <td>6</td>\n",
       "      <td>148</td>\n",
       "      <td>72.0</td>\n",
       "      <td>35</td>\n",
       "      <td>0</td>\n",
       "      <td>33.6</td>\n",
       "      <td>0.627</td>\n",
       "      <td>50</td>\n",
       "      <td>1</td>\n",
       "    </tr>\n",
       "    <tr>\n",
       "      <th>1</th>\n",
       "      <td>1</td>\n",
       "      <td>85</td>\n",
       "      <td>66.0</td>\n",
       "      <td>29</td>\n",
       "      <td>0</td>\n",
       "      <td>26.6</td>\n",
       "      <td>0.351</td>\n",
       "      <td>31</td>\n",
       "      <td>0</td>\n",
       "    </tr>\n",
       "    <tr>\n",
       "      <th>2</th>\n",
       "      <td>8</td>\n",
       "      <td>183</td>\n",
       "      <td>64.0</td>\n",
       "      <td>0</td>\n",
       "      <td>0</td>\n",
       "      <td>23.3</td>\n",
       "      <td>0.672</td>\n",
       "      <td>32</td>\n",
       "      <td>1</td>\n",
       "    </tr>\n",
       "    <tr>\n",
       "      <th>3</th>\n",
       "      <td>1</td>\n",
       "      <td>89</td>\n",
       "      <td>66.0</td>\n",
       "      <td>23</td>\n",
       "      <td>94</td>\n",
       "      <td>28.1</td>\n",
       "      <td>0.167</td>\n",
       "      <td>21</td>\n",
       "      <td>0</td>\n",
       "    </tr>\n",
       "    <tr>\n",
       "      <th>4</th>\n",
       "      <td>0</td>\n",
       "      <td>137</td>\n",
       "      <td>40.0</td>\n",
       "      <td>35</td>\n",
       "      <td>168</td>\n",
       "      <td>43.1</td>\n",
       "      <td>2.288</td>\n",
       "      <td>33</td>\n",
       "      <td>1</td>\n",
       "    </tr>\n",
       "  </tbody>\n",
       "</table>\n",
       "</div>"
      ],
      "text/plain": [
       "   Pregnancies  Glucose  BloodPressure  SkinThickness  Insulin   BMI  \\\n",
       "0            6      148           72.0             35        0  33.6   \n",
       "1            1       85           66.0             29        0  26.6   \n",
       "2            8      183           64.0              0        0  23.3   \n",
       "3            1       89           66.0             23       94  28.1   \n",
       "4            0      137           40.0             35      168  43.1   \n",
       "\n",
       "   DiabetesPedigreeFunction  Age  Outcome  \n",
       "0                     0.627   50        1  \n",
       "1                     0.351   31        0  \n",
       "2                     0.672   32        1  \n",
       "3                     0.167   21        0  \n",
       "4                     2.288   33        1  "
      ]
     },
     "execution_count": 3,
     "metadata": {},
     "output_type": "execute_result"
    }
   ],
   "source": [
    "df=pd.read_csv(\"C:/Users/HP/Desktop/IMARTICUS/ML/New folder/Data Science Projects/ZeroToHero/DataSets/diabetes.csv\")\n",
    "df.head()"
   ]
  },
  {
   "cell_type": "markdown",
   "id": "44dbcc0a",
   "metadata": {},
   "source": [
    "# Data Preparation"
   ]
  },
  {
   "cell_type": "code",
   "execution_count": 4,
   "id": "a5cb6f71",
   "metadata": {},
   "outputs": [
    {
     "name": "stdout",
     "output_type": "stream",
     "text": [
      "<class 'pandas.core.frame.DataFrame'>\n",
      "RangeIndex: 768 entries, 0 to 767\n",
      "Data columns (total 9 columns):\n",
      " #   Column                    Non-Null Count  Dtype  \n",
      "---  ------                    --------------  -----  \n",
      " 0   Pregnancies               768 non-null    int64  \n",
      " 1   Glucose                   768 non-null    int64  \n",
      " 2   BloodPressure             767 non-null    float64\n",
      " 3   SkinThickness             768 non-null    int64  \n",
      " 4   Insulin                   768 non-null    int64  \n",
      " 5   BMI                       768 non-null    float64\n",
      " 6   DiabetesPedigreeFunction  768 non-null    float64\n",
      " 7   Age                       768 non-null    int64  \n",
      " 8   Outcome                   768 non-null    int64  \n",
      "dtypes: float64(3), int64(6)\n",
      "memory usage: 54.1 KB\n"
     ]
    }
   ],
   "source": [
    "df.info()"
   ]
  },
  {
   "cell_type": "code",
   "execution_count": 5,
   "id": "58f15bdc",
   "metadata": {},
   "outputs": [
    {
     "data": {
      "text/plain": [
       "(768, 9)"
      ]
     },
     "execution_count": 5,
     "metadata": {},
     "output_type": "execute_result"
    }
   ],
   "source": [
    "df.shape"
   ]
  },
  {
   "cell_type": "code",
   "execution_count": 6,
   "id": "5ba985c1",
   "metadata": {},
   "outputs": [
    {
     "data": {
      "text/plain": [
       "Pregnancies                 0\n",
       "Glucose                     0\n",
       "BloodPressure               1\n",
       "SkinThickness               0\n",
       "Insulin                     0\n",
       "BMI                         0\n",
       "DiabetesPedigreeFunction    0\n",
       "Age                         0\n",
       "Outcome                     0\n",
       "dtype: int64"
      ]
     },
     "execution_count": 6,
     "metadata": {},
     "output_type": "execute_result"
    }
   ],
   "source": [
    "df.isnull().sum()"
   ]
  },
  {
   "cell_type": "code",
   "execution_count": 7,
   "id": "d8bb6cb9",
   "metadata": {},
   "outputs": [
    {
     "data": {
      "text/plain": [
       "<AxesSubplot:>"
      ]
     },
     "execution_count": 7,
     "metadata": {},
     "output_type": "execute_result"
    },
    {
     "data": {
      "image/png": "[encoded data removed]",
      "text/plain": [
       "<Figure size 432x288 with 2 Axes>"
      ]
     },
     "metadata": {
      "needs_background": "light"
     },
     "output_type": "display_data"
    }
   ],
   "source": [
    "sns.heatmap(df.isnull())"
   ]
  },
  {
   "cell_type": "code",
   "execution_count": 8,
   "id": "e4df9a0b",
   "metadata": {},
   "outputs": [
    {
     "data": {
      "text/plain": [
       "Pregnancies                  17\n",
       "Glucose                     136\n",
       "BloodPressure                47\n",
       "SkinThickness                51\n",
       "Insulin                     186\n",
       "BMI                         248\n",
       "DiabetesPedigreeFunction    517\n",
       "Age                          52\n",
       "Outcome                       2\n",
       "dtype: int64"
      ]
     },
     "execution_count": 8,
     "metadata": {},
     "output_type": "execute_result"
    }
   ],
   "source": [
    "df.nunique()"
   ]
  },
  {
   "cell_type": "markdown",
   "id": "5da4916e",
   "metadata": {},
   "source": [
    "# EDA"
   ]
  },
  {
   "cell_type": "code",
   "execution_count": 9,
   "id": "68259d77",
   "metadata": {},
   "outputs": [
    {
     "data": {
      "text/plain": [
       "0    500\n",
       "1    268\n",
       "Name: Outcome, dtype: int64"
      ]
     },
     "execution_count": 9,
     "metadata": {},
     "output_type": "execute_result"
    }
   ],
   "source": [
    "df.Outcome.value_counts()"
   ]
  },
  {
   "cell_type": "code",
   "execution_count": 10,
   "id": "da49aaaf",
   "metadata": {},
   "outputs": [
    {
     "data": {
      "image/png": "[encoded data removed]",
      "text/plain": [
       "<Figure size 432x288 with 1 Axes>"
      ]
     },
     "metadata": {
      "needs_background": "light"
     },
     "output_type": "display_data"
    }
   ],
   "source": [
    "sns.countplot(df.Outcome)\n",
    "plt.title('countplot of outcome')\n",
    "plt.show()"
   ]
  },
  {
   "cell_type": "markdown",
   "id": "374a6f9d",
   "metadata": {},
   "source": [
    "# splitting the data"
   ]
  },
  {
   "cell_type": "code",
   "execution_count": 14,
   "id": "298156ab",
   "metadata": {},
   "outputs": [],
   "source": [
    "x=df.loc[:,df.columns!='Outcome']     # only predictors \n",
    "y=df.loc[:,df.columns=='Outcome']     # only target "
   ]
  },
  {
   "cell_type": "code",
   "execution_count": 15,
   "id": "9c661031",
   "metadata": {},
   "outputs": [
    {
     "data": {
      "image/png": "[encoded data removed]",
      "text/plain": [
       "<Figure size 432x288 with 1 Axes>"
      ]
     },
     "metadata": {
      "needs_background": "light"
     },
     "output_type": "display_data"
    },
    {
     "data": {
      "image/png": "[encoded data removed]",
      "text/plain": [
       "<Figure size 432x288 with 1 Axes>"
      ]
     },
     "metadata": {
      "needs_background": "light"
     },
     "output_type": "display_data"
    },
    {
     "data": {
      "image/png": "[encoded data removed]",
      "text/plain": [
       "<Figure size 432x288 with 1 Axes>"
      ]
     },
     "metadata": {
      "needs_background": "light"
     },
     "output_type": "display_data"
    },
    {
     "data": {
      "image/png": "[encoded data removed]",
      "text/plain": [
       "<Figure size 432x288 with 1 Axes>"
      ]
     },
     "metadata": {
      "needs_background": "light"
     },
     "output_type": "display_data"
    },
    {
     "data": {
      "image/png": "[encoded data removed]",
      "text/plain": [
       "<Figure size 432x288 with 1 Axes>"
      ]
     },
     "metadata": {
      "needs_background": "light"
     },
     "output_type": "display_data"
    },
    {
     "data": {
      "image/png": "[encoded data removed]",
      "text/plain": [
       "<Figure size 432x288 with 1 Axes>"
      ]
     },
     "metadata": {
      "needs_background": "light"
     },
     "output_type": "display_data"
    },
    {
     "data": {
      "image/png": "[encoded data removed]",
      "text/plain": [
       "<Figure size 432x288 with 1 Axes>"
      ]
     },
     "metadata": {
      "needs_background": "light"
     },
     "output_type": "display_data"
    },
    {
     "data": {
      "image/png": "[encoded data removed]",
      "text/plain": [
       "<Figure size 432x288 with 1 Axes>"
      ]
     },
     "metadata": {
      "needs_background": "light"
     },
     "output_type": "display_data"
    }
   ],
   "source": [
    "for i in x.columns:\n",
    "    sns.histplot(df[i])\n",
    "    plt.show()"
   ]
  },
  {
   "cell_type": "code",
   "execution_count": 19,
   "id": "8c7cca1e",
   "metadata": {},
   "outputs": [
    {
     "data": {
      "image/png": "[encoded data removed]",
      "text/plain": [
       "<Figure size 432x288 with 1 Axes>"
      ]
     },
     "metadata": {
      "needs_background": "light"
     },
     "output_type": "display_data"
    },
    {
     "data": {
      "image/png": "[encoded data removed]",
      "text/plain": [
       "<Figure size 432x288 with 1 Axes>"
      ]
     },
     "metadata": {
      "needs_background": "light"
     },
     "output_type": "display_data"
    },
    {
     "data": {
      "image/png": "[encoded data removed]",
      "text/plain": [
       "<Figure size 432x288 with 1 Axes>"
      ]
     },
     "metadata": {
      "needs_background": "light"
     },
     "output_type": "display_data"
    },
    {
     "data": {
      "image/png": "[encoded data removed]",
      "text/plain": [
       "<Figure size 432x288 with 1 Axes>"
      ]
     },
     "metadata": {
      "needs_background": "light"
     },
     "output_type": "display_data"
    },
    {
     "data": {
      "image/png": "[encoded data removed]",
      "text/plain": [
       "<Figure size 432x288 with 1 Axes>"
      ]
     },
     "metadata": {
      "needs_background": "light"
     },
     "output_type": "display_data"
    },
    {
     "data": {
      "image/png": "[encoded data removed]",
      "text/plain": [
       "<Figure size 432x288 with 1 Axes>"
      ]
     },
     "metadata": {
      "needs_background": "light"
     },
     "output_type": "display_data"
    },
    {
     "data": {
      "image/png": "[encoded data removed]",
      "text/plain": [
       "<Figure size 432x288 with 1 Axes>"
      ]
     },
     "metadata": {
      "needs_background": "light"
     },
     "output_type": "display_data"
    },
    {
     "data": {
      "image/png": "[encoded data removed]",
      "text/plain": [
       "<Figure size 432x288 with 1 Axes>"
      ]
     },
     "metadata": {
      "needs_background": "light"
     },
     "output_type": "display_data"
    }
   ],
   "source": [
    "for i in x.columns:\n",
    "    sns.boxplot(df[i])\n",
    "    plt.show()"
   ]
  },
  {
   "cell_type": "code",
   "execution_count": 20,
   "id": "2480e688",
   "metadata": {},
   "outputs": [
    {
     "data": {
      "text/html": [
       "<div>\n",
       "<style scoped>\n",
       "    .dataframe tbody tr th:only-of-type {\n",
       "        vertical-align: middle;\n",
       "    }\n",
       "\n",
       "    .dataframe tbody tr th {\n",
       "        vertical-align: top;\n",
       "    }\n",
       "\n",
       "    .dataframe thead th {\n",
       "        text-align: right;\n",
       "    }\n",
       "</style>\n",
       "<table border=\"1\" class=\"dataframe\">\n",
       "  <thead>\n",
       "    <tr style=\"text-align: right;\">\n",
       "      <th></th>\n",
       "      <th>Pregnancies</th>\n",
       "      <th>Glucose</th>\n",
       "      <th>BloodPressure</th>\n",
       "      <th>SkinThickness</th>\n",
       "      <th>Insulin</th>\n",
       "      <th>BMI</th>\n",
       "      <th>DiabetesPedigreeFunction</th>\n",
       "      <th>Age</th>\n",
       "      <th>Outcome</th>\n",
       "    </tr>\n",
       "  </thead>\n",
       "  <tbody>\n",
       "    <tr>\n",
       "      <th>579</th>\n",
       "      <td>2</td>\n",
       "      <td>197</td>\n",
       "      <td>70.0</td>\n",
       "      <td>99</td>\n",
       "      <td>0</td>\n",
       "      <td>34.7</td>\n",
       "      <td>0.575</td>\n",
       "      <td>62</td>\n",
       "      <td>1</td>\n",
       "    </tr>\n",
       "  </tbody>\n",
       "</table>\n",
       "</div>"
      ],
      "text/plain": [
       "     Pregnancies  Glucose  BloodPressure  SkinThickness  Insulin   BMI  \\\n",
       "579            2      197           70.0             99        0  34.7   \n",
       "\n",
       "     DiabetesPedigreeFunction  Age  Outcome  \n",
       "579                     0.575   62        1  "
      ]
     },
     "execution_count": 20,
     "metadata": {},
     "output_type": "execute_result"
    }
   ],
   "source": [
    "df[df.SkinThickness>90]"
   ]
  },
  {
   "cell_type": "markdown",
   "id": "41f5cd2e",
   "metadata": {},
   "source": [
    "# There is only one data which has extreme outlier so  drop that record"
   ]
  },
  {
   "cell_type": "code",
   "execution_count": 21,
   "id": "5d2ac8c0",
   "metadata": {},
   "outputs": [],
   "source": [
    "df.drop(579,inplace=True)"
   ]
  },
  {
   "cell_type": "code",
   "execution_count": null,
   "id": "d7e4caba",
   "metadata": {},
   "outputs": [],
   "source": []
  },
  {
   "cell_type": "code",
   "execution_count": 17,
   "id": "299fcf80",
   "metadata": {},
   "outputs": [
    {
     "data": {
      "text/plain": [
       "<AxesSubplot:>"
      ]
     },
     "execution_count": 17,
     "metadata": {},
     "output_type": "execute_result"
    },
    {
     "data": {
      "image/png": "[encoded data removed]",
      "text/plain": [
       "<Figure size 432x288 with 2 Axes>"
      ]
     },
     "metadata": {
      "needs_background": "light"
     },
     "output_type": "display_data"
    }
   ],
   "source": [
    "sns.heatmap(x.corr(),annot=True)"
   ]
  },
  {
   "cell_type": "code",
   "execution_count": 18,
   "id": "33a85a5a",
   "metadata": {},
   "outputs": [
    {
     "data": {
      "text/plain": [
       "Index(['Pregnancies', 'Glucose', 'BloodPressure', 'SkinThickness', 'Insulin',\n",
       "       'BMI', 'DiabetesPedigreeFunction', 'Age', 'Outcome'],\n",
       "      dtype='object')"
      ]
     },
     "execution_count": 18,
     "metadata": {},
     "output_type": "execute_result"
    }
   ],
   "source": [
    "df.columns"
   ]
  },
  {
   "cell_type": "code",
   "execution_count": 19,
   "id": "e3cff7f8",
   "metadata": {},
   "outputs": [
    {
     "name": "stdout",
     "output_type": "stream",
     "text": [
      "Good predictors with p-value : \n",
      "\n",
      "Pregnancies \n",
      " p-value = 4.102032518938751e-10 \n",
      "\n",
      "\n",
      "Glucose \n",
      " p-value = 2.471726904019901e-42 \n",
      "\n",
      "\n",
      "Insulin \n",
      " p-value = 0.00024700685929888414 \n",
      "\n",
      "\n",
      "BMI \n",
      " p-value = 1.36371862134616e-16 \n",
      "\n",
      "\n",
      "DiabetesPedigreeFunction \n",
      " p-value = 1.3365648768047684e-06 \n",
      "\n",
      "\n",
      "Age \n",
      " p-value = 4.2232485254965214e-11 \n",
      "\n",
      "\n",
      "GoodPredictors= ['Pregnancies', 'Glucose', 'Insulin', 'BMI', 'DiabetesPedigreeFunction', 'Age']\n"
     ]
    }
   ],
   "source": [
    "from scipy.stats import ttest_ind\n",
    "\n",
    "print('Good predictors with p-value :','\\n')\n",
    "GoodPredictors=[]\n",
    "for i in x.columns:\n",
    "    a=df[df.Outcome==0]\n",
    "    b=df[df.Outcome==1]\n",
    "    test=ttest_ind(a[i],b[i])\n",
    "    if test.pvalue<0.05:\n",
    "        print(i,'\\n','p-value =',test.pvalue,'\\n\\n')\n",
    "        GoodPredictors.append(i)\n",
    "print('GoodPredictors=',GoodPredictors)"
   ]
  },
  {
   "cell_type": "code",
   "execution_count": 20,
   "id": "2798bfaf",
   "metadata": {},
   "outputs": [
    {
     "name": "stdout",
     "output_type": "stream",
     "text": [
      "BAD predictors with p-value : \n",
      "\n",
      "BloodPressure \n",
      " p-value = 0.07171277101453302 \n",
      "\n",
      "\n",
      "SkinThickness \n",
      " p-value = 0.06311365760797047 \n",
      "\n",
      "\n",
      "BADPredictors= ['BloodPressure', 'SkinThickness']\n"
     ]
    }
   ],
   "source": [
    "print('BAD predictors with p-value :','\\n')\n",
    "BADPredictors=[]\n",
    "for i in x.columns:\n",
    "    a=df[df.Outcome==0]\n",
    "    b=df[df.Outcome==1]\n",
    "    test=ttest_ind(a[i],b[i])\n",
    "    if test.pvalue>0.05:\n",
    "        print(i,'\\n','p-value =',test.pvalue,'\\n\\n')\n",
    "        BADPredictors.append(i)\n",
    "print('BADPredictors=',BADPredictors)"
   ]
  },
  {
   "cell_type": "code",
   "execution_count": 21,
   "id": "96033d6d",
   "metadata": {},
   "outputs": [],
   "source": [
    "x=df[GoodPredictors]\n",
    "y=df['Outcome']"
   ]
  },
  {
   "cell_type": "code",
   "execution_count": 22,
   "id": "696a5a07",
   "metadata": {},
   "outputs": [
    {
     "data": {
      "text/html": [
       "<div>\n",
       "<style scoped>\n",
       "    .dataframe tbody tr th:only-of-type {\n",
       "        vertical-align: middle;\n",
       "    }\n",
       "\n",
       "    .dataframe tbody tr th {\n",
       "        vertical-align: top;\n",
       "    }\n",
       "\n",
       "    .dataframe thead th {\n",
       "        text-align: right;\n",
       "    }\n",
       "</style>\n",
       "<table border=\"1\" class=\"dataframe\">\n",
       "  <thead>\n",
       "    <tr style=\"text-align: right;\">\n",
       "      <th></th>\n",
       "      <th>Pregnancies</th>\n",
       "      <th>Glucose</th>\n",
       "      <th>Insulin</th>\n",
       "      <th>BMI</th>\n",
       "      <th>DiabetesPedigreeFunction</th>\n",
       "      <th>Age</th>\n",
       "    </tr>\n",
       "  </thead>\n",
       "  <tbody>\n",
       "    <tr>\n",
       "      <th>0</th>\n",
       "      <td>6</td>\n",
       "      <td>148</td>\n",
       "      <td>0</td>\n",
       "      <td>33.6</td>\n",
       "      <td>0.627</td>\n",
       "      <td>50</td>\n",
       "    </tr>\n",
       "    <tr>\n",
       "      <th>1</th>\n",
       "      <td>1</td>\n",
       "      <td>85</td>\n",
       "      <td>0</td>\n",
       "      <td>26.6</td>\n",
       "      <td>0.351</td>\n",
       "      <td>31</td>\n",
       "    </tr>\n",
       "    <tr>\n",
       "      <th>2</th>\n",
       "      <td>8</td>\n",
       "      <td>183</td>\n",
       "      <td>0</td>\n",
       "      <td>23.3</td>\n",
       "      <td>0.672</td>\n",
       "      <td>32</td>\n",
       "    </tr>\n",
       "    <tr>\n",
       "      <th>3</th>\n",
       "      <td>1</td>\n",
       "      <td>89</td>\n",
       "      <td>94</td>\n",
       "      <td>28.1</td>\n",
       "      <td>0.167</td>\n",
       "      <td>21</td>\n",
       "    </tr>\n",
       "    <tr>\n",
       "      <th>4</th>\n",
       "      <td>0</td>\n",
       "      <td>137</td>\n",
       "      <td>168</td>\n",
       "      <td>43.1</td>\n",
       "      <td>2.288</td>\n",
       "      <td>33</td>\n",
       "    </tr>\n",
       "  </tbody>\n",
       "</table>\n",
       "</div>"
      ],
      "text/plain": [
       "   Pregnancies  Glucose  Insulin   BMI  DiabetesPedigreeFunction  Age\n",
       "0            6      148        0  33.6                     0.627   50\n",
       "1            1       85        0  26.6                     0.351   31\n",
       "2            8      183        0  23.3                     0.672   32\n",
       "3            1       89       94  28.1                     0.167   21\n",
       "4            0      137      168  43.1                     2.288   33"
      ]
     },
     "execution_count": 22,
     "metadata": {},
     "output_type": "execute_result"
    }
   ],
   "source": [
    "x.head()"
   ]
  },
  {
   "cell_type": "code",
   "execution_count": 23,
   "id": "76c7f8be",
   "metadata": {},
   "outputs": [
    {
     "data": {
      "text/plain": [
       "0    500\n",
       "1    267\n",
       "Name: Outcome, dtype: int64"
      ]
     },
     "execution_count": 23,
     "metadata": {},
     "output_type": "execute_result"
    }
   ],
   "source": [
    "y.value_counts()"
   ]
  },
  {
   "cell_type": "markdown",
   "id": "5b0f7f46",
   "metadata": {},
   "source": [
    "# Will perform SMOTE operation\n",
    "Because their is an imbalance in the target variable so will perform oversampling for the value which are less"
   ]
  },
  {
   "cell_type": "code",
   "execution_count": 25,
   "id": "98a14078",
   "metadata": {},
   "outputs": [],
   "source": [
    "from sklearn.model_selection import train_test_split\n",
    "x_train,x_test,y_train,y_test=train_test_split(x,y,test_size=.2,random_state=0)\n"
   ]
  },
  {
   "cell_type": "code",
   "execution_count": 26,
   "id": "91ec8474",
   "metadata": {},
   "outputs": [],
   "source": [
    "train=pd.concat([x_train,y_train],axis=1)"
   ]
  },
  {
   "cell_type": "code",
   "execution_count": 27,
   "id": "46c952ff",
   "metadata": {},
   "outputs": [
    {
     "data": {
      "text/html": [
       "<div>\n",
       "<style scoped>\n",
       "    .dataframe tbody tr th:only-of-type {\n",
       "        vertical-align: middle;\n",
       "    }\n",
       "\n",
       "    .dataframe tbody tr th {\n",
       "        vertical-align: top;\n",
       "    }\n",
       "\n",
       "    .dataframe thead th {\n",
       "        text-align: right;\n",
       "    }\n",
       "</style>\n",
       "<table border=\"1\" class=\"dataframe\">\n",
       "  <thead>\n",
       "    <tr style=\"text-align: right;\">\n",
       "      <th></th>\n",
       "      <th>Pregnancies</th>\n",
       "      <th>Glucose</th>\n",
       "      <th>Insulin</th>\n",
       "      <th>BMI</th>\n",
       "      <th>DiabetesPedigreeFunction</th>\n",
       "      <th>Age</th>\n",
       "      <th>Outcome</th>\n",
       "    </tr>\n",
       "  </thead>\n",
       "  <tbody>\n",
       "    <tr>\n",
       "      <th>604</th>\n",
       "      <td>4</td>\n",
       "      <td>183</td>\n",
       "      <td>0</td>\n",
       "      <td>28.4</td>\n",
       "      <td>0.212</td>\n",
       "      <td>36</td>\n",
       "      <td>1</td>\n",
       "    </tr>\n",
       "    <tr>\n",
       "      <th>118</th>\n",
       "      <td>4</td>\n",
       "      <td>97</td>\n",
       "      <td>0</td>\n",
       "      <td>28.2</td>\n",
       "      <td>0.443</td>\n",
       "      <td>22</td>\n",
       "      <td>0</td>\n",
       "    </tr>\n",
       "    <tr>\n",
       "      <th>247</th>\n",
       "      <td>0</td>\n",
       "      <td>165</td>\n",
       "      <td>680</td>\n",
       "      <td>52.3</td>\n",
       "      <td>0.427</td>\n",
       "      <td>23</td>\n",
       "      <td>0</td>\n",
       "    </tr>\n",
       "    <tr>\n",
       "      <th>157</th>\n",
       "      <td>1</td>\n",
       "      <td>109</td>\n",
       "      <td>135</td>\n",
       "      <td>25.2</td>\n",
       "      <td>0.833</td>\n",
       "      <td>23</td>\n",
       "      <td>0</td>\n",
       "    </tr>\n",
       "    <tr>\n",
       "      <th>468</th>\n",
       "      <td>8</td>\n",
       "      <td>120</td>\n",
       "      <td>0</td>\n",
       "      <td>30.0</td>\n",
       "      <td>0.183</td>\n",
       "      <td>38</td>\n",
       "      <td>1</td>\n",
       "    </tr>\n",
       "  </tbody>\n",
       "</table>\n",
       "</div>"
      ],
      "text/plain": [
       "     Pregnancies  Glucose  Insulin   BMI  DiabetesPedigreeFunction  Age  \\\n",
       "604            4      183        0  28.4                     0.212   36   \n",
       "118            4       97        0  28.2                     0.443   22   \n",
       "247            0      165      680  52.3                     0.427   23   \n",
       "157            1      109      135  25.2                     0.833   23   \n",
       "468            8      120        0  30.0                     0.183   38   \n",
       "\n",
       "     Outcome  \n",
       "604        1  \n",
       "118        0  \n",
       "247        0  \n",
       "157        0  \n",
       "468        1  "
      ]
     },
     "execution_count": 27,
     "metadata": {},
     "output_type": "execute_result"
    }
   ],
   "source": [
    "train.head()"
   ]
  },
  {
   "cell_type": "code",
   "execution_count": 28,
   "id": "d3d34553",
   "metadata": {},
   "outputs": [
    {
     "name": "stdout",
     "output_type": "stream",
     "text": [
      "not_subsc 392\n",
      "subsc 221\n"
     ]
    }
   ],
   "source": [
    "not_subsc=train[train.Outcome==0]\n",
    "print('not_subsc',len(not_subsc))\n",
    "subsc=train[train.Outcome==1]\n",
    "print('subsc',len(subsc))"
   ]
  },
  {
   "cell_type": "code",
   "execution_count": 29,
   "id": "057f43ce",
   "metadata": {},
   "outputs": [],
   "source": [
    "from sklearn.utils import resample\n",
    "subsc_os=resample(subsc,replace=True,n_samples=len(not_subsc),random_state=0)"
   ]
  },
  {
   "cell_type": "code",
   "execution_count": 30,
   "id": "3630904b",
   "metadata": {},
   "outputs": [
    {
     "data": {
      "text/plain": [
       "392"
      ]
     },
     "execution_count": 30,
     "metadata": {},
     "output_type": "execute_result"
    }
   ],
   "source": [
    "len(subsc_os)"
   ]
  },
  {
   "cell_type": "code",
   "execution_count": 31,
   "id": "2325c618",
   "metadata": {},
   "outputs": [],
   "source": [
    "train_os=pd.concat([not_subsc,subsc_os])"
   ]
  },
  {
   "cell_type": "code",
   "execution_count": 32,
   "id": "31fe6893",
   "metadata": {},
   "outputs": [
    {
     "data": {
      "text/plain": [
       "392"
      ]
     },
     "execution_count": 32,
     "metadata": {},
     "output_type": "execute_result"
    }
   ],
   "source": [
    "len(train_os[train_os.Outcome==0])"
   ]
  },
  {
   "cell_type": "code",
   "execution_count": 33,
   "id": "ee280a95",
   "metadata": {},
   "outputs": [
    {
     "data": {
      "text/plain": [
       "392"
      ]
     },
     "execution_count": 33,
     "metadata": {},
     "output_type": "execute_result"
    }
   ],
   "source": [
    "len(train_os[train_os.Outcome==1])"
   ]
  },
  {
   "cell_type": "code",
   "execution_count": 34,
   "id": "f79f9827",
   "metadata": {},
   "outputs": [
    {
     "data": {
      "text/html": [
       "<div>\n",
       "<style scoped>\n",
       "    .dataframe tbody tr th:only-of-type {\n",
       "        vertical-align: middle;\n",
       "    }\n",
       "\n",
       "    .dataframe tbody tr th {\n",
       "        vertical-align: top;\n",
       "    }\n",
       "\n",
       "    .dataframe thead th {\n",
       "        text-align: right;\n",
       "    }\n",
       "</style>\n",
       "<table border=\"1\" class=\"dataframe\">\n",
       "  <thead>\n",
       "    <tr style=\"text-align: right;\">\n",
       "      <th></th>\n",
       "      <th>Pregnancies</th>\n",
       "      <th>Glucose</th>\n",
       "      <th>Insulin</th>\n",
       "      <th>BMI</th>\n",
       "      <th>DiabetesPedigreeFunction</th>\n",
       "      <th>Age</th>\n",
       "      <th>Outcome</th>\n",
       "    </tr>\n",
       "  </thead>\n",
       "  <tbody>\n",
       "    <tr>\n",
       "      <th>118</th>\n",
       "      <td>4</td>\n",
       "      <td>97</td>\n",
       "      <td>0</td>\n",
       "      <td>28.2</td>\n",
       "      <td>0.443</td>\n",
       "      <td>22</td>\n",
       "      <td>0</td>\n",
       "    </tr>\n",
       "    <tr>\n",
       "      <th>247</th>\n",
       "      <td>0</td>\n",
       "      <td>165</td>\n",
       "      <td>680</td>\n",
       "      <td>52.3</td>\n",
       "      <td>0.427</td>\n",
       "      <td>23</td>\n",
       "      <td>0</td>\n",
       "    </tr>\n",
       "    <tr>\n",
       "      <th>157</th>\n",
       "      <td>1</td>\n",
       "      <td>109</td>\n",
       "      <td>135</td>\n",
       "      <td>25.2</td>\n",
       "      <td>0.833</td>\n",
       "      <td>23</td>\n",
       "      <td>0</td>\n",
       "    </tr>\n",
       "    <tr>\n",
       "      <th>97</th>\n",
       "      <td>1</td>\n",
       "      <td>71</td>\n",
       "      <td>76</td>\n",
       "      <td>20.4</td>\n",
       "      <td>0.323</td>\n",
       "      <td>22</td>\n",
       "      <td>0</td>\n",
       "    </tr>\n",
       "    <tr>\n",
       "      <th>530</th>\n",
       "      <td>2</td>\n",
       "      <td>122</td>\n",
       "      <td>106</td>\n",
       "      <td>29.8</td>\n",
       "      <td>0.717</td>\n",
       "      <td>22</td>\n",
       "      <td>0</td>\n",
       "    </tr>\n",
       "  </tbody>\n",
       "</table>\n",
       "</div>"
      ],
      "text/plain": [
       "     Pregnancies  Glucose  Insulin   BMI  DiabetesPedigreeFunction  Age  \\\n",
       "118            4       97        0  28.2                     0.443   22   \n",
       "247            0      165      680  52.3                     0.427   23   \n",
       "157            1      109      135  25.2                     0.833   23   \n",
       "97             1       71       76  20.4                     0.323   22   \n",
       "530            2      122      106  29.8                     0.717   22   \n",
       "\n",
       "     Outcome  \n",
       "118        0  \n",
       "247        0  \n",
       "157        0  \n",
       "97         0  \n",
       "530        0  "
      ]
     },
     "execution_count": 34,
     "metadata": {},
     "output_type": "execute_result"
    }
   ],
   "source": [
    "train_os.head()"
   ]
  },
  {
   "cell_type": "code",
   "execution_count": 35,
   "id": "b11a3ec3",
   "metadata": {},
   "outputs": [],
   "source": [
    "x_trainos=train_os.loc[:,train_os.columns!='Outcome']            # only predictors\n",
    "y_trainos=train_os.loc[:,train_os.columns=='Outcome']  "
   ]
  },
  {
   "cell_type": "code",
   "execution_count": 36,
   "id": "0bfdc061",
   "metadata": {},
   "outputs": [
    {
     "data": {
      "text/plain": [
       "DecisionTreeClassifier()"
      ]
     },
     "execution_count": 36,
     "metadata": {},
     "output_type": "execute_result"
    }
   ],
   "source": [
    "from sklearn.tree import DecisionTreeClassifier\n",
    "\n",
    "DTC=DecisionTreeClassifier()\n",
    "DTCFIT=DTC.fit(x_trainos,y_trainos)\n",
    "DTCFIT"
   ]
  },
  {
   "cell_type": "code",
   "execution_count": 37,
   "id": "8257d8a1",
   "metadata": {},
   "outputs": [
    {
     "data": {
      "image/png": "[encoded data removed]",
      "text/plain": [
       "<Figure size 432x288 with 1 Axes>"
      ]
     },
     "metadata": {
      "needs_background": "light"
     },
     "output_type": "display_data"
    }
   ],
   "source": [
    "from sklearn import tree\n",
    "tree.plot_tree(DTC.fit(x_trainos,y_trainos))\n",
    "plt.show()"
   ]
  },
  {
   "cell_type": "code",
   "execution_count": 38,
   "id": "bb152aa7",
   "metadata": {},
   "outputs": [
    {
     "data": {
      "text/plain": [
       "array([0, 0, 0, 1, 0, 0, 1, 0, 0, 0, 1, 1, 0, 0, 0, 1, 1, 0, 0, 0, 0, 0,\n",
       "       1, 0, 0, 1, 0, 1, 0, 0, 1, 0, 0, 1, 0, 1, 0, 0, 0, 1, 0, 0, 0, 0,\n",
       "       0, 0, 0, 1, 0, 0, 1, 0, 0, 1, 0, 0, 0, 1, 0, 0, 0, 0, 1, 0, 1, 0,\n",
       "       0, 0, 1, 0, 0, 0, 0, 0, 1, 0, 0, 0, 0, 0, 0, 1, 0, 0, 0, 0, 0, 0,\n",
       "       1, 0, 1, 1, 0, 0, 0, 0, 0, 0, 0, 1, 0, 0, 0, 0, 1, 1, 0, 1, 0, 1,\n",
       "       1, 1, 0, 1, 0, 0, 0, 0, 0, 0, 0, 0, 0, 0, 0, 1, 0, 1, 0, 0, 0, 0,\n",
       "       0, 0, 0, 1, 0, 1, 0, 0, 0, 1, 0, 0, 1, 0, 0, 0, 0, 0, 0, 1, 0, 1],\n",
       "      dtype=int64)"
      ]
     },
     "execution_count": 38,
     "metadata": {},
     "output_type": "execute_result"
    }
   ],
   "source": [
    "y_predDTC=DTC.predict(x_test)\n",
    "y_predDTC"
   ]
  },
  {
   "cell_type": "code",
   "execution_count": 39,
   "id": "52915536",
   "metadata": {},
   "outputs": [
    {
     "data": {
      "text/plain": [
       "array([[93, 15],\n",
       "       [20, 26]], dtype=int64)"
      ]
     },
     "execution_count": 39,
     "metadata": {},
     "output_type": "execute_result"
    }
   ],
   "source": [
    "from sklearn.metrics import confusion_matrix\n",
    "confusion_matrix(y_test,y_predDTC)"
   ]
  },
  {
   "cell_type": "code",
   "execution_count": 40,
   "id": "93c680ad",
   "metadata": {},
   "outputs": [
    {
     "name": "stdout",
     "output_type": "stream",
     "text": [
      "              precision    recall  f1-score   support\n",
      "\n",
      "           0       0.82      0.86      0.84       108\n",
      "           1       0.63      0.57      0.60        46\n",
      "\n",
      "    accuracy                           0.77       154\n",
      "   macro avg       0.73      0.71      0.72       154\n",
      "weighted avg       0.77      0.77      0.77       154\n",
      "\n"
     ]
    }
   ],
   "source": [
    "from sklearn.metrics import classification_report\n",
    "print(classification_report(y_test,y_predDTC))"
   ]
  },
  {
   "cell_type": "code",
   "execution_count": 41,
   "id": "5804aadd",
   "metadata": {},
   "outputs": [
    {
     "data": {
      "text/plain": [
       "0.7727272727272727"
      ]
     },
     "execution_count": 41,
     "metadata": {},
     "output_type": "execute_result"
    }
   ],
   "source": [
    "from sklearn.metrics import accuracy_score\n",
    "as_DTC=accuracy_score(y_test,y_predDTC)\n",
    "as_DTC"
   ]
  },
  {
   "cell_type": "code",
   "execution_count": 42,
   "id": "de805561",
   "metadata": {},
   "outputs": [],
   "source": [
    "predict_proba_DTC=DTCFIT.predict_proba(x_test)[:,1]"
   ]
  },
  {
   "cell_type": "code",
   "execution_count": 43,
   "id": "354f23c2",
   "metadata": {},
   "outputs": [],
   "source": [
    "from sklearn import metrics\n",
    "from sklearn.metrics import roc_curve, auc, roc_auc_score\n",
    "fpr_DTC,tpr_DTC,thresholds=metrics.roc_curve(y_test,predict_proba_DTC)"
   ]
  },
  {
   "cell_type": "code",
   "execution_count": 44,
   "id": "d3e73b49",
   "metadata": {},
   "outputs": [
    {
     "data": {
      "text/plain": [
       "array([0.        , 0.13888889, 1.        ])"
      ]
     },
     "execution_count": 44,
     "metadata": {},
     "output_type": "execute_result"
    }
   ],
   "source": [
    "fpr_DTC"
   ]
  },
  {
   "cell_type": "code",
   "execution_count": 45,
   "id": "22c6ff55",
   "metadata": {},
   "outputs": [
    {
     "data": {
      "text/plain": [
       "array([0.        , 0.56521739, 1.        ])"
      ]
     },
     "execution_count": 45,
     "metadata": {},
     "output_type": "execute_result"
    }
   ],
   "source": [
    "tpr_DTC"
   ]
  },
  {
   "cell_type": "code",
   "execution_count": 46,
   "id": "717c5cbd",
   "metadata": {},
   "outputs": [
    {
     "data": {
      "text/plain": [
       "0.7131642512077294"
      ]
     },
     "execution_count": 46,
     "metadata": {},
     "output_type": "execute_result"
    }
   ],
   "source": [
    "auc_DTC=auc(fpr_DTC,tpr_DTC)\n",
    "auc_DTC"
   ]
  },
  {
   "cell_type": "code",
   "execution_count": 47,
   "id": "46f89308",
   "metadata": {},
   "outputs": [
    {
     "data": {
      "text/plain": [
       "<Figure size 720x1440 with 0 Axes>"
      ]
     },
     "metadata": {},
     "output_type": "display_data"
    },
    {
     "data": {
      "image/png": "[encoded data removed]",
      "text/plain": [
       "<Figure size 432x288 with 1 Axes>"
      ]
     },
     "metadata": {
      "needs_background": "light"
     },
     "output_type": "display_data"
    }
   ],
   "source": [
    "plt.figure(figsize=(10,20))\n",
    "plt.figure()\n",
    "lw=2\n",
    "plt.plot(fpr_DTC,tpr_DTC,color='darkorange',lw=lw,label='ROC Curve (area= %0.2f)'%auc_DTC)\n",
    "plt.plot([0,1],[0,1],'b--',lw=lw)\n",
    "plt.xlim([0.0,1.0])\n",
    "plt.ylim([0.0,1.05])\n",
    "plt.xlabel('False positive rate')\n",
    "plt.ylabel('True positive rate')\n",
    "plt.title('Receiver operating characteristic curve [ROC curve]')\n",
    "plt.legend(loc='lower right')\n",
    "plt.show()"
   ]
  },
  {
   "cell_type": "markdown",
   "id": "d71e528b",
   "metadata": {},
   "source": [
    "# Bagging"
   ]
  },
  {
   "cell_type": "code",
   "execution_count": 48,
   "id": "cbb09c33",
   "metadata": {},
   "outputs": [],
   "source": [
    "from sklearn.ensemble import BaggingClassifier"
   ]
  },
  {
   "cell_type": "code",
   "execution_count": 49,
   "id": "7ba3b181",
   "metadata": {},
   "outputs": [],
   "source": [
    "bc=BaggingClassifier(base_estimator=DTC,n_estimators=300,bootstrap=True,n_jobs=-1,oob_score=True)\n",
    "bc.fit(x_trainos,y_trainos)\n",
    "y_predB=bc.predict(x_test)"
   ]
  },
  {
   "cell_type": "code",
   "execution_count": 50,
   "id": "5d971553",
   "metadata": {},
   "outputs": [
    {
     "data": {
      "text/html": [
       "<div>\n",
       "<style scoped>\n",
       "    .dataframe tbody tr th:only-of-type {\n",
       "        vertical-align: middle;\n",
       "    }\n",
       "\n",
       "    .dataframe tbody tr th {\n",
       "        vertical-align: top;\n",
       "    }\n",
       "\n",
       "    .dataframe thead th {\n",
       "        text-align: right;\n",
       "    }\n",
       "</style>\n",
       "<table border=\"1\" class=\"dataframe\">\n",
       "  <thead>\n",
       "    <tr style=\"text-align: right;\">\n",
       "      <th>Predict</th>\n",
       "      <th>0</th>\n",
       "      <th>1</th>\n",
       "      <th>All</th>\n",
       "    </tr>\n",
       "    <tr>\n",
       "      <th>Actual</th>\n",
       "      <th></th>\n",
       "      <th></th>\n",
       "      <th></th>\n",
       "    </tr>\n",
       "  </thead>\n",
       "  <tbody>\n",
       "    <tr>\n",
       "      <th>0</th>\n",
       "      <td>93</td>\n",
       "      <td>15</td>\n",
       "      <td>108</td>\n",
       "    </tr>\n",
       "    <tr>\n",
       "      <th>1</th>\n",
       "      <td>11</td>\n",
       "      <td>35</td>\n",
       "      <td>46</td>\n",
       "    </tr>\n",
       "    <tr>\n",
       "      <th>All</th>\n",
       "      <td>104</td>\n",
       "      <td>50</td>\n",
       "      <td>154</td>\n",
       "    </tr>\n",
       "  </tbody>\n",
       "</table>\n",
       "</div>"
      ],
      "text/plain": [
       "Predict    0   1  All\n",
       "Actual               \n",
       "0         93  15  108\n",
       "1         11  35   46\n",
       "All      104  50  154"
      ]
     },
     "execution_count": 50,
     "metadata": {},
     "output_type": "execute_result"
    }
   ],
   "source": [
    "pd.crosstab(y_test,y_predB,margins=True,rownames=['Actual'],colnames=['Predict'])"
   ]
  },
  {
   "cell_type": "code",
   "execution_count": 51,
   "id": "7593513e",
   "metadata": {},
   "outputs": [
    {
     "name": "stdout",
     "output_type": "stream",
     "text": [
      "              precision    recall  f1-score   support\n",
      "\n",
      "           0       0.89      0.86      0.88       108\n",
      "           1       0.70      0.76      0.73        46\n",
      "\n",
      "    accuracy                           0.83       154\n",
      "   macro avg       0.80      0.81      0.80       154\n",
      "weighted avg       0.84      0.83      0.83       154\n",
      "\n"
     ]
    }
   ],
   "source": [
    "print(classification_report(y_test,y_predB))"
   ]
  },
  {
   "cell_type": "code",
   "execution_count": 52,
   "id": "33271471",
   "metadata": {},
   "outputs": [],
   "source": [
    "probPB=bc.predict_proba(x_test)[:,1]"
   ]
  },
  {
   "cell_type": "code",
   "execution_count": 53,
   "id": "a4891901",
   "metadata": {},
   "outputs": [],
   "source": [
    "from sklearn import metrics \n",
    "fprPB,tprPB,thresholdPB=metrics.roc_curve(y_test,probPB)"
   ]
  },
  {
   "cell_type": "code",
   "execution_count": 54,
   "id": "0f93e5eb",
   "metadata": {},
   "outputs": [
    {
     "data": {
      "text/plain": [
       "0.8839573268921095"
      ]
     },
     "execution_count": 54,
     "metadata": {},
     "output_type": "execute_result"
    }
   ],
   "source": [
    "aucPB=auc(fprPB,tprPB)\n",
    "aucPB"
   ]
  },
  {
   "cell_type": "code",
   "execution_count": 55,
   "id": "f66190e8",
   "metadata": {},
   "outputs": [
    {
     "data": {
      "text/plain": [
       "<Figure size 720x1440 with 0 Axes>"
      ]
     },
     "metadata": {},
     "output_type": "display_data"
    },
    {
     "data": {
      "image/png": "[encoded data removed]",
      "text/plain": [
       "<Figure size 432x288 with 1 Axes>"
      ]
     },
     "metadata": {
      "needs_background": "light"
     },
     "output_type": "display_data"
    }
   ],
   "source": [
    "plt.figure(figsize=(10,20))\n",
    "plt.figure()\n",
    "lw=2\n",
    "plt.plot(fprPB,tprPB,color='darkorange',lw=lw,label='ROC Curve (area= %0.2f)'%aucPB)\n",
    "plt.plot([0,1],[0,1],'b--',lw=lw)\n",
    "plt.xlim([-0.05,1.0])\n",
    "plt.ylim([-0.05,1.05])\n",
    "plt.xlabel('False positive rate')\n",
    "plt.ylabel('True positive rate')\n",
    "plt.title('Receiver operating characteristic curve [ROC curve]')\n",
    "plt.legend(loc='lower right')\n",
    "plt.show()"
   ]
  },
  {
   "cell_type": "markdown",
   "id": "37540ae0",
   "metadata": {},
   "source": [
    "# Random Forest"
   ]
  },
  {
   "cell_type": "code",
   "execution_count": 56,
   "id": "888314ba",
   "metadata": {},
   "outputs": [],
   "source": [
    "from sklearn.ensemble import RandomForestClassifier\n",
    "\n",
    "RFC=RandomForestClassifier(max_features='sqrt')\n",
    "RFCFit=RFC.fit(x_trainos,y_trainos)"
   ]
  },
  {
   "cell_type": "code",
   "execution_count": 57,
   "id": "fbacd8bc",
   "metadata": {},
   "outputs": [],
   "source": [
    "y_predRF=RFC.predict(x_test)"
   ]
  },
  {
   "cell_type": "code",
   "execution_count": 58,
   "id": "440546e1",
   "metadata": {},
   "outputs": [
    {
     "data": {
      "text/html": [
       "<div>\n",
       "<style scoped>\n",
       "    .dataframe tbody tr th:only-of-type {\n",
       "        vertical-align: middle;\n",
       "    }\n",
       "\n",
       "    .dataframe tbody tr th {\n",
       "        vertical-align: top;\n",
       "    }\n",
       "\n",
       "    .dataframe thead th {\n",
       "        text-align: right;\n",
       "    }\n",
       "</style>\n",
       "<table border=\"1\" class=\"dataframe\">\n",
       "  <thead>\n",
       "    <tr style=\"text-align: right;\">\n",
       "      <th>Predict</th>\n",
       "      <th>0</th>\n",
       "      <th>1</th>\n",
       "      <th>All</th>\n",
       "    </tr>\n",
       "    <tr>\n",
       "      <th>Actual</th>\n",
       "      <th></th>\n",
       "      <th></th>\n",
       "      <th></th>\n",
       "    </tr>\n",
       "  </thead>\n",
       "  <tbody>\n",
       "    <tr>\n",
       "      <th>0</th>\n",
       "      <td>94</td>\n",
       "      <td>14</td>\n",
       "      <td>108</td>\n",
       "    </tr>\n",
       "    <tr>\n",
       "      <th>1</th>\n",
       "      <td>12</td>\n",
       "      <td>34</td>\n",
       "      <td>46</td>\n",
       "    </tr>\n",
       "    <tr>\n",
       "      <th>All</th>\n",
       "      <td>106</td>\n",
       "      <td>48</td>\n",
       "      <td>154</td>\n",
       "    </tr>\n",
       "  </tbody>\n",
       "</table>\n",
       "</div>"
      ],
      "text/plain": [
       "Predict    0   1  All\n",
       "Actual               \n",
       "0         94  14  108\n",
       "1         12  34   46\n",
       "All      106  48  154"
      ]
     },
     "execution_count": 58,
     "metadata": {},
     "output_type": "execute_result"
    }
   ],
   "source": [
    "pd.crosstab(y_test,y_predRF,margins=True,rownames=['Actual'],colnames=['Predict'])"
   ]
  },
  {
   "cell_type": "code",
   "execution_count": 59,
   "id": "6e48ac40",
   "metadata": {},
   "outputs": [],
   "source": [
    "from sklearn.metrics import classification_report"
   ]
  },
  {
   "cell_type": "code",
   "execution_count": 60,
   "id": "dd08e575",
   "metadata": {},
   "outputs": [
    {
     "name": "stdout",
     "output_type": "stream",
     "text": [
      "              precision    recall  f1-score   support\n",
      "\n",
      "           0       0.89      0.87      0.88       108\n",
      "           1       0.71      0.74      0.72        46\n",
      "\n",
      "    accuracy                           0.83       154\n",
      "   macro avg       0.80      0.80      0.80       154\n",
      "weighted avg       0.83      0.83      0.83       154\n",
      "\n"
     ]
    }
   ],
   "source": [
    "print(classification_report(y_test,y_predRF))"
   ]
  },
  {
   "cell_type": "code",
   "execution_count": 61,
   "id": "17e26272",
   "metadata": {},
   "outputs": [],
   "source": [
    "probRF=RFCFit.predict_proba(x_test)[:,1]"
   ]
  },
  {
   "cell_type": "code",
   "execution_count": 62,
   "id": "2a1fbd87",
   "metadata": {},
   "outputs": [],
   "source": [
    "fprRF,tprRF,thresholds=metrics.roc_curve(y_test,probRF)"
   ]
  },
  {
   "cell_type": "code",
   "execution_count": 63,
   "id": "14c7f9e3",
   "metadata": {},
   "outputs": [
    {
     "data": {
      "text/plain": [
       "0.8897946859903382"
      ]
     },
     "execution_count": 63,
     "metadata": {},
     "output_type": "execute_result"
    }
   ],
   "source": [
    "aucRF=auc(fprRF,tprRF)\n",
    "aucRF"
   ]
  },
  {
   "cell_type": "code",
   "execution_count": 64,
   "id": "3a57abcc",
   "metadata": {},
   "outputs": [
    {
     "data": {
      "text/plain": [
       "<Figure size 720x1440 with 0 Axes>"
      ]
     },
     "metadata": {},
     "output_type": "display_data"
    },
    {
     "data": {
      "image/png": "[encoded data removed]",
      "text/plain": [
       "<Figure size 432x288 with 1 Axes>"
      ]
     },
     "metadata": {
      "needs_background": "light"
     },
     "output_type": "display_data"
    }
   ],
   "source": [
    "plt.figure(figsize=(10,20))\n",
    "plt.figure()\n",
    "lw=2\n",
    "plt.plot(fprRF,tprRF,color='darkorange',lw=lw,label='ROC Curve (area= %0.2f)'%aucRF)\n",
    "plt.plot([0,1],[0,1],'b--',lw=lw)\n",
    "plt.xlim([-0.05,1.0])\n",
    "plt.ylim([-0.05,1.05])\n",
    "plt.xlabel('False positive rate')\n",
    "plt.ylabel('True positive rate')\n",
    "plt.title('Receiver operating characteristic curve [ROC curve]')\n",
    "plt.legend(loc='lower right')\n",
    "plt.show()"
   ]
  },
  {
   "cell_type": "markdown",
   "id": "d5687cea",
   "metadata": {},
   "source": [
    "# Importance of Variables"
   ]
  },
  {
   "cell_type": "code",
   "execution_count": 65,
   "id": "a198d4b8",
   "metadata": {},
   "outputs": [
    {
     "data": {
      "text/html": [
       "<div>\n",
       "<style scoped>\n",
       "    .dataframe tbody tr th:only-of-type {\n",
       "        vertical-align: middle;\n",
       "    }\n",
       "\n",
       "    .dataframe tbody tr th {\n",
       "        vertical-align: top;\n",
       "    }\n",
       "\n",
       "    .dataframe thead th {\n",
       "        text-align: right;\n",
       "    }\n",
       "</style>\n",
       "<table border=\"1\" class=\"dataframe\">\n",
       "  <thead>\n",
       "    <tr style=\"text-align: right;\">\n",
       "      <th></th>\n",
       "      <th>features</th>\n",
       "      <th>importance</th>\n",
       "    </tr>\n",
       "  </thead>\n",
       "  <tbody>\n",
       "    <tr>\n",
       "      <th>1</th>\n",
       "      <td>Glucose</td>\n",
       "      <td>0.302039</td>\n",
       "    </tr>\n",
       "    <tr>\n",
       "      <th>3</th>\n",
       "      <td>BMI</td>\n",
       "      <td>0.201674</td>\n",
       "    </tr>\n",
       "    <tr>\n",
       "      <th>5</th>\n",
       "      <td>Age</td>\n",
       "      <td>0.172943</td>\n",
       "    </tr>\n",
       "    <tr>\n",
       "      <th>4</th>\n",
       "      <td>DiabetesPedigreeFunction</td>\n",
       "      <td>0.162403</td>\n",
       "    </tr>\n",
       "    <tr>\n",
       "      <th>0</th>\n",
       "      <td>Pregnancies</td>\n",
       "      <td>0.080878</td>\n",
       "    </tr>\n",
       "    <tr>\n",
       "      <th>2</th>\n",
       "      <td>Insulin</td>\n",
       "      <td>0.080063</td>\n",
       "    </tr>\n",
       "  </tbody>\n",
       "</table>\n",
       "</div>"
      ],
      "text/plain": [
       "                   features  importance\n",
       "1                   Glucose    0.302039\n",
       "3                       BMI    0.201674\n",
       "5                       Age    0.172943\n",
       "4  DiabetesPedigreeFunction    0.162403\n",
       "0               Pregnancies    0.080878\n",
       "2                   Insulin    0.080063"
      ]
     },
     "execution_count": 65,
     "metadata": {},
     "output_type": "execute_result"
    }
   ],
   "source": [
    "fi=pd.DataFrame({'features':list(x_train.columns),'importance':RFCFit.feature_importances_}).sort_values('importance',ascending=False)\n",
    "fi"
   ]
  },
  {
   "cell_type": "markdown",
   "id": "44c32190",
   "metadata": {},
   "source": [
    "# Gradient Boosting Classifier"
   ]
  },
  {
   "cell_type": "code",
   "execution_count": 66,
   "id": "e02bd02c",
   "metadata": {},
   "outputs": [],
   "source": [
    "from sklearn.ensemble import GradientBoostingClassifier\n",
    "\n",
    "GBC=GradientBoostingClassifier()\n",
    "GBCFIT=GBC.fit(x_trainos,y_trainos)\n",
    "pred_GB=GBC.predict(x_test)"
   ]
  },
  {
   "cell_type": "code",
   "execution_count": 67,
   "id": "45178017",
   "metadata": {},
   "outputs": [
    {
     "data": {
      "text/plain": [
       "array([[90, 18],\n",
       "       [ 9, 37]], dtype=int64)"
      ]
     },
     "execution_count": 67,
     "metadata": {},
     "output_type": "execute_result"
    }
   ],
   "source": [
    "from sklearn.metrics import confusion_matrix\n",
    "confusion_matrix(y_test,pred_GB)"
   ]
  },
  {
   "cell_type": "code",
   "execution_count": 68,
   "id": "8884f362",
   "metadata": {},
   "outputs": [
    {
     "data": {
      "text/html": [
       "<div>\n",
       "<style scoped>\n",
       "    .dataframe tbody tr th:only-of-type {\n",
       "        vertical-align: middle;\n",
       "    }\n",
       "\n",
       "    .dataframe tbody tr th {\n",
       "        vertical-align: top;\n",
       "    }\n",
       "\n",
       "    .dataframe thead th {\n",
       "        text-align: right;\n",
       "    }\n",
       "</style>\n",
       "<table border=\"1\" class=\"dataframe\">\n",
       "  <thead>\n",
       "    <tr style=\"text-align: right;\">\n",
       "      <th>predict</th>\n",
       "      <th>0</th>\n",
       "      <th>1</th>\n",
       "      <th>All</th>\n",
       "    </tr>\n",
       "    <tr>\n",
       "      <th>Actual</th>\n",
       "      <th></th>\n",
       "      <th></th>\n",
       "      <th></th>\n",
       "    </tr>\n",
       "  </thead>\n",
       "  <tbody>\n",
       "    <tr>\n",
       "      <th>0</th>\n",
       "      <td>90</td>\n",
       "      <td>18</td>\n",
       "      <td>108</td>\n",
       "    </tr>\n",
       "    <tr>\n",
       "      <th>1</th>\n",
       "      <td>9</td>\n",
       "      <td>37</td>\n",
       "      <td>46</td>\n",
       "    </tr>\n",
       "    <tr>\n",
       "      <th>All</th>\n",
       "      <td>99</td>\n",
       "      <td>55</td>\n",
       "      <td>154</td>\n",
       "    </tr>\n",
       "  </tbody>\n",
       "</table>\n",
       "</div>"
      ],
      "text/plain": [
       "predict   0   1  All\n",
       "Actual              \n",
       "0        90  18  108\n",
       "1         9  37   46\n",
       "All      99  55  154"
      ]
     },
     "execution_count": 68,
     "metadata": {},
     "output_type": "execute_result"
    }
   ],
   "source": [
    "pd.crosstab(y_test,pred_GB,margins=True,rownames=['Actual'],colnames=['predict'])"
   ]
  },
  {
   "cell_type": "code",
   "execution_count": 69,
   "id": "ee1cf672",
   "metadata": {},
   "outputs": [
    {
     "name": "stdout",
     "output_type": "stream",
     "text": [
      "              precision    recall  f1-score   support\n",
      "\n",
      "           0       0.91      0.83      0.87       108\n",
      "           1       0.67      0.80      0.73        46\n",
      "\n",
      "    accuracy                           0.82       154\n",
      "   macro avg       0.79      0.82      0.80       154\n",
      "weighted avg       0.84      0.82      0.83       154\n",
      "\n"
     ]
    }
   ],
   "source": [
    "from sklearn.metrics import classification_report\n",
    "print(classification_report(y_test,pred_GB))"
   ]
  },
  {
   "cell_type": "code",
   "execution_count": 70,
   "id": "4e38ef89",
   "metadata": {},
   "outputs": [],
   "source": [
    "GB_prob=GBCFIT.predict_proba(x_test)[:,1]"
   ]
  },
  {
   "cell_type": "code",
   "execution_count": 71,
   "id": "45bad014",
   "metadata": {},
   "outputs": [],
   "source": [
    "fprGBC,tprGBC,thresholdGBC=metrics.roc_curve(y_test,GB_prob)"
   ]
  },
  {
   "cell_type": "code",
   "execution_count": 72,
   "id": "ea90acdd",
   "metadata": {},
   "outputs": [
    {
     "data": {
      "text/plain": [
       "0.8886876006441223"
      ]
     },
     "execution_count": 72,
     "metadata": {},
     "output_type": "execute_result"
    }
   ],
   "source": [
    "aucGBC=auc(fprGBC,tprGBC)\n",
    "aucGBC"
   ]
  },
  {
   "cell_type": "code",
   "execution_count": 73,
   "id": "fc56e988",
   "metadata": {},
   "outputs": [
    {
     "data": {
      "text/plain": [
       "<Figure size 720x1440 with 0 Axes>"
      ]
     },
     "metadata": {},
     "output_type": "display_data"
    },
    {
     "data": {
      "image/png": "[encoded data removed]",
      "text/plain": [
       "<Figure size 432x288 with 1 Axes>"
      ]
     },
     "metadata": {
      "needs_background": "light"
     },
     "output_type": "display_data"
    }
   ],
   "source": [
    "plt.figure(figsize=(10,20))\n",
    "plt.figure()\n",
    "lw=2\n",
    "plt.plot(fprGBC,tprGBC,color='darkorange',lw=lw,label='ROC Curve (area= %0.2f)'%aucGBC)\n",
    "plt.plot([0,1],[0,1],'b--',lw=lw)\n",
    "plt.xlim([-0.05,1.0])\n",
    "plt.ylim([-0.05,1.05])\n",
    "plt.xlabel('False positive rate')\n",
    "plt.ylabel('True positive rate')\n",
    "plt.title('Receiver operating characteristic curve [ROC curve]')\n",
    "plt.legend(loc='lower right')\n",
    "plt.show()"
   ]
  },
  {
   "cell_type": "markdown",
   "id": "ffd981a1",
   "metadata": {},
   "source": [
    "# Adaptive Boosting Classifier"
   ]
  },
  {
   "cell_type": "code",
   "execution_count": 74,
   "id": "30f846f1",
   "metadata": {},
   "outputs": [],
   "source": [
    "from sklearn.ensemble import AdaBoostClassifier\n",
    "Ada=AdaBoostClassifier(base_estimator=DTC,n_estimators=200)"
   ]
  },
  {
   "cell_type": "code",
   "execution_count": 75,
   "id": "ba67b089",
   "metadata": {},
   "outputs": [
    {
     "data": {
      "text/plain": [
       "array([0, 0, 0, 1, 0, 0, 1, 0, 0, 1, 1, 1, 0, 0, 0, 1, 1, 0, 0, 0, 0, 0,\n",
       "       1, 0, 0, 1, 0, 1, 0, 0, 1, 0, 0, 1, 0, 1, 0, 0, 0, 1, 0, 0, 0, 1,\n",
       "       0, 0, 0, 1, 0, 0, 1, 0, 0, 0, 0, 0, 0, 1, 0, 0, 0, 0, 1, 0, 1, 0,\n",
       "       0, 0, 1, 0, 0, 0, 0, 0, 1, 0, 0, 0, 0, 0, 0, 1, 0, 0, 0, 0, 0, 0,\n",
       "       1, 0, 1, 1, 0, 0, 1, 0, 0, 0, 0, 1, 0, 0, 0, 0, 1, 1, 0, 1, 0, 1,\n",
       "       1, 1, 0, 1, 1, 0, 0, 0, 0, 0, 0, 1, 0, 0, 0, 1, 0, 1, 0, 0, 0, 0,\n",
       "       0, 0, 0, 1, 0, 1, 0, 0, 0, 0, 0, 0, 1, 0, 0, 0, 0, 1, 0, 1, 0, 1],\n",
       "      dtype=int64)"
      ]
     },
     "execution_count": 75,
     "metadata": {},
     "output_type": "execute_result"
    }
   ],
   "source": [
    "AdaFit=Ada.fit(x_trainos,y_trainos)\n",
    "Ada_predict=Ada.predict(x_test)\n",
    "Ada_predict"
   ]
  },
  {
   "cell_type": "code",
   "execution_count": 76,
   "id": "0a1d30f1",
   "metadata": {},
   "outputs": [
    {
     "data": {
      "text/html": [
       "<div>\n",
       "<style scoped>\n",
       "    .dataframe tbody tr th:only-of-type {\n",
       "        vertical-align: middle;\n",
       "    }\n",
       "\n",
       "    .dataframe tbody tr th {\n",
       "        vertical-align: top;\n",
       "    }\n",
       "\n",
       "    .dataframe thead th {\n",
       "        text-align: right;\n",
       "    }\n",
       "</style>\n",
       "<table border=\"1\" class=\"dataframe\">\n",
       "  <thead>\n",
       "    <tr style=\"text-align: right;\">\n",
       "      <th>Predict</th>\n",
       "      <th>0</th>\n",
       "      <th>1</th>\n",
       "      <th>All</th>\n",
       "    </tr>\n",
       "    <tr>\n",
       "      <th>Actual</th>\n",
       "      <th></th>\n",
       "      <th></th>\n",
       "      <th></th>\n",
       "    </tr>\n",
       "  </thead>\n",
       "  <tbody>\n",
       "    <tr>\n",
       "      <th>0</th>\n",
       "      <td>91</td>\n",
       "      <td>17</td>\n",
       "      <td>108</td>\n",
       "    </tr>\n",
       "    <tr>\n",
       "      <th>1</th>\n",
       "      <td>18</td>\n",
       "      <td>28</td>\n",
       "      <td>46</td>\n",
       "    </tr>\n",
       "    <tr>\n",
       "      <th>All</th>\n",
       "      <td>109</td>\n",
       "      <td>45</td>\n",
       "      <td>154</td>\n",
       "    </tr>\n",
       "  </tbody>\n",
       "</table>\n",
       "</div>"
      ],
      "text/plain": [
       "Predict    0   1  All\n",
       "Actual               \n",
       "0         91  17  108\n",
       "1         18  28   46\n",
       "All      109  45  154"
      ]
     },
     "execution_count": 76,
     "metadata": {},
     "output_type": "execute_result"
    }
   ],
   "source": [
    "pd.crosstab(y_test,Ada_predict,margins=True,rownames=['Actual'],colnames=['Predict'])"
   ]
  },
  {
   "cell_type": "code",
   "execution_count": 77,
   "id": "ef27f685",
   "metadata": {},
   "outputs": [
    {
     "name": "stdout",
     "output_type": "stream",
     "text": [
      "              precision    recall  f1-score   support\n",
      "\n",
      "           0       0.83      0.84      0.84       108\n",
      "           1       0.62      0.61      0.62        46\n",
      "\n",
      "    accuracy                           0.77       154\n",
      "   macro avg       0.73      0.73      0.73       154\n",
      "weighted avg       0.77      0.77      0.77       154\n",
      "\n"
     ]
    }
   ],
   "source": [
    "print(classification_report(y_test,Ada_predict))"
   ]
  },
  {
   "cell_type": "code",
   "execution_count": 78,
   "id": "fe50e8c7",
   "metadata": {},
   "outputs": [
    {
     "data": {
      "text/plain": [
       "array([2.22044605e-16, 2.22044605e-16, 2.22044605e-16, 1.00000000e+00,\n",
       "       2.22044605e-16, 2.22044605e-16, 1.00000000e+00, 2.22044605e-16,\n",
       "       2.22044605e-16, 1.00000000e+00, 1.00000000e+00, 1.00000000e+00,\n",
       "       2.22044605e-16, 2.22044605e-16, 2.22044605e-16, 1.00000000e+00,\n",
       "       1.00000000e+00, 2.22044605e-16, 2.22044605e-16, 2.22044605e-16,\n",
       "       2.22044605e-16, 2.22044605e-16, 1.00000000e+00, 2.22044605e-16,\n",
       "       2.22044605e-16, 1.00000000e+00, 2.22044605e-16, 1.00000000e+00,\n",
       "       2.22044605e-16, 2.22044605e-16, 1.00000000e+00, 2.22044605e-16,\n",
       "       2.22044605e-16, 1.00000000e+00, 2.22044605e-16, 1.00000000e+00,\n",
       "       2.22044605e-16, 2.22044605e-16, 2.22044605e-16, 1.00000000e+00,\n",
       "       2.22044605e-16, 2.22044605e-16, 2.22044605e-16, 1.00000000e+00,\n",
       "       2.22044605e-16, 2.22044605e-16, 2.22044605e-16, 1.00000000e+00,\n",
       "       2.22044605e-16, 2.22044605e-16, 1.00000000e+00, 2.22044605e-16,\n",
       "       2.22044605e-16, 2.22044605e-16, 2.22044605e-16, 2.22044605e-16,\n",
       "       2.22044605e-16, 1.00000000e+00, 2.22044605e-16, 2.22044605e-16,\n",
       "       2.22044605e-16, 2.22044605e-16, 1.00000000e+00, 2.22044605e-16,\n",
       "       1.00000000e+00, 2.22044605e-16, 2.22044605e-16, 2.22044605e-16,\n",
       "       1.00000000e+00, 2.22044605e-16, 2.22044605e-16, 2.22044605e-16,\n",
       "       2.22044605e-16, 2.22044605e-16, 1.00000000e+00, 2.22044605e-16,\n",
       "       2.22044605e-16, 2.22044605e-16, 2.22044605e-16, 2.22044605e-16,\n",
       "       2.22044605e-16, 1.00000000e+00, 2.22044605e-16, 2.22044605e-16,\n",
       "       2.22044605e-16, 2.22044605e-16, 2.22044605e-16, 2.22044605e-16,\n",
       "       1.00000000e+00, 2.22044605e-16, 1.00000000e+00, 1.00000000e+00,\n",
       "       2.22044605e-16, 2.22044605e-16, 1.00000000e+00, 2.22044605e-16,\n",
       "       2.22044605e-16, 2.22044605e-16, 2.22044605e-16, 1.00000000e+00,\n",
       "       2.22044605e-16, 2.22044605e-16, 2.22044605e-16, 2.22044605e-16,\n",
       "       1.00000000e+00, 1.00000000e+00, 2.22044605e-16, 1.00000000e+00,\n",
       "       2.22044605e-16, 1.00000000e+00, 1.00000000e+00, 1.00000000e+00,\n",
       "       2.22044605e-16, 1.00000000e+00, 1.00000000e+00, 2.22044605e-16,\n",
       "       2.22044605e-16, 2.22044605e-16, 2.22044605e-16, 2.22044605e-16,\n",
       "       2.22044605e-16, 1.00000000e+00, 2.22044605e-16, 2.22044605e-16,\n",
       "       2.22044605e-16, 1.00000000e+00, 2.22044605e-16, 1.00000000e+00,\n",
       "       2.22044605e-16, 2.22044605e-16, 2.22044605e-16, 2.22044605e-16,\n",
       "       2.22044605e-16, 2.22044605e-16, 2.22044605e-16, 1.00000000e+00,\n",
       "       2.22044605e-16, 1.00000000e+00, 2.22044605e-16, 2.22044605e-16,\n",
       "       2.22044605e-16, 2.22044605e-16, 2.22044605e-16, 2.22044605e-16,\n",
       "       1.00000000e+00, 2.22044605e-16, 2.22044605e-16, 2.22044605e-16,\n",
       "       2.22044605e-16, 1.00000000e+00, 2.22044605e-16, 1.00000000e+00,\n",
       "       2.22044605e-16, 1.00000000e+00])"
      ]
     },
     "execution_count": 78,
     "metadata": {},
     "output_type": "execute_result"
    }
   ],
   "source": [
    "Ada_prob=AdaFit.predict_proba(x_test)[:,1]\n",
    "Ada_prob"
   ]
  },
  {
   "cell_type": "code",
   "execution_count": 79,
   "id": "a3540d38",
   "metadata": {},
   "outputs": [],
   "source": [
    "fpr_Ada,tpr_Ada,threshold_Ada=metrics.roc_curve(y_test,Ada_prob)"
   ]
  },
  {
   "cell_type": "code",
   "execution_count": 80,
   "id": "03c78967",
   "metadata": {},
   "outputs": [
    {
     "data": {
      "text/plain": [
       "0.7256441223832528"
      ]
     },
     "execution_count": 80,
     "metadata": {},
     "output_type": "execute_result"
    }
   ],
   "source": [
    "auc_Ada=auc(fpr_Ada,tpr_Ada)\n",
    "auc_Ada"
   ]
  },
  {
   "cell_type": "code",
   "execution_count": 81,
   "id": "343a321d",
   "metadata": {},
   "outputs": [
    {
     "data": {
      "text/plain": [
       "<Figure size 720x1440 with 0 Axes>"
      ]
     },
     "metadata": {},
     "output_type": "display_data"
    },
    {
     "data": {
      "image/png": "[encoded data removed]",
      "text/plain": [
       "<Figure size 432x288 with 1 Axes>"
      ]
     },
     "metadata": {
      "needs_background": "light"
     },
     "output_type": "display_data"
    }
   ],
   "source": [
    "plt.figure(figsize=(10,20))\n",
    "plt.figure()\n",
    "lw=2\n",
    "plt.plot(fpr_Ada,tpr_Ada,color='darkorange',lw=lw,label='ROC Curve (area= %0.2f)'%auc_Ada)\n",
    "plt.plot([0,1],[0,1],'b--',lw=lw)\n",
    "plt.xlim([-0.05,1.0])\n",
    "plt.ylim([-0.05,1.05])\n",
    "plt.xlabel('False positive rate')\n",
    "plt.ylabel('True positive rate')\n",
    "plt.title('Receiver operating characteristic curve [ROC curve]')\n",
    "plt.legend(loc='lower right')\n",
    "plt.show()"
   ]
  },
  {
   "cell_type": "code",
   "execution_count": null,
   "id": "321850ef",
   "metadata": {},
   "outputs": [],
   "source": []
  }
 ],
 "metadata": {
  "kernelspec": {
   "display_name": "Python 3 (ipykernel)",
   "language": "python",
   "name": "python3"
  },
  "language_info": {
   "codemirror_mode": {
    "name": "ipython",
    "version": 3
   },
   "file_extension": ".py",
   "mimetype": "text/x-python",
   "name": "python",
   "nbconvert_exporter": "python",
   "pygments_lexer": "ipython3",
   "version": "3.9.12"
  }
 },
 "nbformat": 4,
 "nbformat_minor": 5
}
